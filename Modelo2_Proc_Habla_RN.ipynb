{
  "nbformat": 4,
  "nbformat_minor": 0,
  "metadata": {
    "colab": {
      "provenance": [],
      "include_colab_link": true
    },
    "kernelspec": {
      "name": "python3",
      "display_name": "Python 3"
    },
    "language_info": {
      "name": "python"
    }
  },
  "cells": [
    {
      "cell_type": "markdown",
      "metadata": {
        "id": "view-in-github",
        "colab_type": "text"
      },
      "source": [
        "<a href=\"https://colab.research.google.com/github/romanzelararg/Tecnicas-de-Procesamiento-del-Habla-Grupo11/blob/main/Modelo2_Proc_Habla_RN.ipynb\" target=\"_parent\"><img src=\"https://colab.research.google.com/assets/colab-badge.svg\" alt=\"Open In Colab\"/></a>"
      ]
    },
    {
      "cell_type": "markdown",
      "source": [
        "#MODELO DE RED NEURONAL CON CAPAS DENSAS.\n",
        "**Procesamiento de Texto**\n",
        "\n",
        "**Análisis de Sentimientos de Texto de un libro \"24 horas en la vida de una mujer.txt\", clasificando las palabras o frases en categorías de sentimiento positivo o negativo.**\n",
        "\n"
      ],
      "metadata": {
        "id": "zhaTYEQyIKxZ"
      }
    },
    {
      "cell_type": "markdown",
      "source": [
        "#Preparación del área de trabajo"
      ],
      "metadata": {
        "id": "EI-pH6ftIbVV"
      }
    },
    {
      "cell_type": "markdown",
      "source": [
        "Importar Librerias"
      ],
      "metadata": {
        "id": "Iu7vfoYXxm2J"
      }
    },
    {
      "cell_type": "code",
      "source": [
        "!pip install nltk\n",
        "!pip install unidecode"
      ],
      "metadata": {
        "colab": {
          "base_uri": "https://localhost:8080/"
        },
        "collapsed": true,
        "id": "WtLPhNGfABbI",
        "outputId": "c0e47982-b583-4fb7-e917-057fc7a3410a"
      },
      "execution_count": null,
      "outputs": [
        {
          "output_type": "stream",
          "name": "stdout",
          "text": [
            "Requirement already satisfied: nltk in /usr/local/lib/python3.10/dist-packages (3.8.1)\n",
            "Requirement already satisfied: click in /usr/local/lib/python3.10/dist-packages (from nltk) (8.1.7)\n",
            "Requirement already satisfied: joblib in /usr/local/lib/python3.10/dist-packages (from nltk) (1.4.2)\n",
            "Requirement already satisfied: regex>=2021.8.3 in /usr/local/lib/python3.10/dist-packages (from nltk) (2023.12.25)\n",
            "Requirement already satisfied: tqdm in /usr/local/lib/python3.10/dist-packages (from nltk) (4.66.4)\n",
            "Collecting unidecode\n",
            "  Downloading Unidecode-1.3.8-py3-none-any.whl (235 kB)\n",
            "\u001b[2K     \u001b[90m━━━━━━━━━━━━━━━━━━━━━━━━━━━━━━━━━━━━━━━━\u001b[0m \u001b[32m235.5/235.5 kB\u001b[0m \u001b[31m3.2 MB/s\u001b[0m eta \u001b[36m0:00:00\u001b[0m\n",
            "\u001b[?25hInstalling collected packages: unidecode\n",
            "Successfully installed unidecode-1.3.8\n"
          ]
        }
      ]
    },
    {
      "cell_type": "code",
      "source": [
        "from keras.models import Sequential\n",
        "from keras.layers import Dense, Dropout\n",
        "from sklearn.feature_extraction.text import TfidfVectorizer\n",
        "from sklearn.model_selection import train_test_split\n",
        "import nltk\n",
        "nltk.download('stopwords')\n",
        "nltk.download('punkt')\n",
        "nltk.download('wordnet')\n",
        "from nltk.corpus import stopwords\n",
        "from sklearn.ensemble import RandomForestClassifier\n",
        "from sklearn.metrics import accuracy_score, classification_report, confusion_matrix\n",
        "import numpy as np\n",
        "import re\n",
        "from imblearn.under_sampling import RandomUnderSampler\n",
        "from nltk.stem import WordNetLemmatizer\n",
        "from unidecode import unidecode\n",
        "from sklearn.feature_extraction.text import TfidfVectorizer\n",
        "import numpy as np"
      ],
      "metadata": {
        "colab": {
          "base_uri": "https://localhost:8080/"
        },
        "id": "NxFO-fxCxsQX",
        "outputId": "a605e56d-944b-4a30-b499-e1d530b77c3e"
      },
      "execution_count": null,
      "outputs": [
        {
          "output_type": "stream",
          "name": "stderr",
          "text": [
            "[nltk_data] Downloading package stopwords to /root/nltk_data...\n",
            "[nltk_data]   Unzipping corpora/stopwords.zip.\n",
            "[nltk_data] Downloading package punkt to /root/nltk_data...\n",
            "[nltk_data]   Unzipping tokenizers/punkt.zip.\n",
            "[nltk_data] Downloading package wordnet to /root/nltk_data...\n"
          ]
        }
      ]
    },
    {
      "cell_type": "markdown",
      "source": [
        "Cargar Documento"
      ],
      "metadata": {
        "id": "z74T6Xrox3Yl"
      }
    },
    {
      "cell_type": "code",
      "source": [
        "import os\n",
        "\n",
        "# Definir la ruta del archivo PDF en Google Drive\n",
        "#libro = '/content/drive/MyDrive/Colab Notebooks/24 horas en la vida de una mujer.txt'\n",
        "libro = '/content/24 horas en la vida de una mujer.txt'\n",
        "# Verificar si la ruta existe\n",
        "if os.path.exists(libro):\n",
        "    print(\"El archivo existe y la ruta es correcta.\")\n",
        "else:\n",
        "    print(\"El archivo no existe o la ruta es incorrecta.\")"
      ],
      "metadata": {
        "colab": {
          "base_uri": "https://localhost:8080/"
        },
        "id": "PYcNqM52x57r",
        "outputId": "e020a31f-7c6f-40d2-e9be-b8170ea30e8c"
      },
      "execution_count": null,
      "outputs": [
        {
          "output_type": "stream",
          "name": "stdout",
          "text": [
            "El archivo existe y la ruta es correcta.\n"
          ]
        }
      ]
    },
    {
      "cell_type": "code",
      "source": [
        "from google.colab import drive\n",
        "drive.mount('/content/drive')"
      ],
      "metadata": {
        "colab": {
          "base_uri": "https://localhost:8080/"
        },
        "id": "jrbjnw2jt4Ll",
        "outputId": "ed3058c1-de63-450b-9d37-196b12662b1a"
      },
      "execution_count": null,
      "outputs": [
        {
          "output_type": "stream",
          "name": "stdout",
          "text": [
            "Mounted at /content/drive\n"
          ]
        }
      ]
    },
    {
      "cell_type": "code",
      "source": [],
      "metadata": {
        "id": "uJdMFpWmJJPl"
      },
      "execution_count": null,
      "outputs": []
    },
    {
      "cell_type": "markdown",
      "source": [
        "#Limpieza y Tokenización de texto"
      ],
      "metadata": {
        "id": "PzVfYldlArrv"
      }
    },
    {
      "cell_type": "code",
      "source": [
        "# Función de limpieza de texto\n",
        "def limpiar_texto(texto):\n",
        "    texto = texto.lower()  # Convertir a minúsculas\n",
        "    texto = re.sub(r'\\W', ' ', texto)  # Eliminar caracteres especiales\n",
        "    texto = re.sub(r'\\s+', ' ', texto)  # Eliminar espacios extra\n",
        "    return texto"
      ],
      "metadata": {
        "id": "u5MLemWkAv5K"
      },
      "execution_count": null,
      "outputs": []
    },
    {
      "cell_type": "code",
      "source": [
        "# Función para lematizar texto\n",
        "def lematizar_texto(tokens):\n",
        "    lemmatizer = WordNetLemmatizer()\n",
        "    tokens_lemmatizados = [lemmatizer.lemmatize(token) for token in tokens]\n",
        "    return tokens_lemmatizados"
      ],
      "metadata": {
        "id": "5UlQuH6wAwnD"
      },
      "execution_count": null,
      "outputs": []
    },
    {
      "cell_type": "code",
      "source": [
        "# Leer y limpiar el texto\n",
        "with open(libro, 'r') as f:\n",
        "    texto = f.read()"
      ],
      "metadata": {
        "id": "MjDbscxzzQKy"
      },
      "execution_count": null,
      "outputs": []
    },
    {
      "cell_type": "code",
      "source": [
        "texto_limpio = limpiar_texto(texto)\n",
        "\n",
        "# Tokenización\n",
        "tokens = nltk.word_tokenize(texto_limpio)"
      ],
      "metadata": {
        "id": "b2OdBKh8BACO"
      },
      "execution_count": null,
      "outputs": []
    },
    {
      "cell_type": "code",
      "source": [
        "print('Cantidad de tokens unicos',len(tokens))"
      ],
      "metadata": {
        "colab": {
          "base_uri": "https://localhost:8080/"
        },
        "id": "o98hcwFV1WVA",
        "outputId": "f02d24b6-bf10-41f3-bba0-32ba1d8ae9a1"
      },
      "execution_count": null,
      "outputs": [
        {
          "output_type": "stream",
          "name": "stdout",
          "text": [
            "Cantidad de tokens unicos 22637\n"
          ]
        }
      ]
    },
    {
      "cell_type": "markdown",
      "source": [
        "Fraccion de Stopwords en un corpus"
      ],
      "metadata": {
        "id": "HOeKRNtS0VIg"
      }
    },
    {
      "cell_type": "code",
      "source": [
        "def stopwords_percentage(text):\n",
        "  '''\n",
        "  aqui usamos un recurso léxico (stopwords) para filtrar un corpus\n",
        "  '''\n",
        "  stopwd = stopwords.words('spanish')\n",
        "  content = [w  for w in text if w.lower() not in stopwd]\n",
        "  return len(content)/len(text)\n",
        "\n",
        "stopwords_percentage(tokens)"
      ],
      "metadata": {
        "colab": {
          "base_uri": "https://localhost:8080/"
        },
        "id": "f-IP_Pam0TfO",
        "outputId": "fec1efb5-ab95-421a-f648-60934899c92e"
      },
      "execution_count": null,
      "outputs": [
        {
          "output_type": "execute_result",
          "data": {
            "text/plain": [
              "0.5240535406635155"
            ]
          },
          "metadata": {},
          "execution_count": 14
        }
      ]
    },
    {
      "cell_type": "markdown",
      "source": [
        "Limpieza de texto"
      ],
      "metadata": {
        "id": "fyl6xUU_yRKR"
      }
    },
    {
      "cell_type": "code",
      "source": [
        "# Eliminar stopwords\n",
        "stop_words = set(stopwords.words('spanish'))\n",
        "tokens_filtrados = [token for token in tokens if token not in stop_words]"
      ],
      "metadata": {
        "id": "KXd39bXpySmx"
      },
      "execution_count": null,
      "outputs": []
    },
    {
      "cell_type": "code",
      "source": [
        "print('Cantidad de tokens sin stopwords',len(tokens_filtrados))"
      ],
      "metadata": {
        "colab": {
          "base_uri": "https://localhost:8080/"
        },
        "id": "iAmkby_61Q7o",
        "outputId": "907c174d-0e6c-44ac-e395-28513015e7b3"
      },
      "execution_count": null,
      "outputs": [
        {
          "output_type": "stream",
          "name": "stdout",
          "text": [
            "Cantidad de tokens sin stopwords 11863\n"
          ]
        }
      ]
    },
    {
      "cell_type": "markdown",
      "source": [
        "Lematización"
      ],
      "metadata": {
        "id": "udGKIUAwBhLb"
      }
    },
    {
      "cell_type": "code",
      "source": [
        "tokens_lemmatizados = lematizar_texto(tokens_filtrados)\n",
        "\n",
        "print('Cantidad de tokens únicos después de lematización:', len(set(tokens_lemmatizados)))"
      ],
      "metadata": {
        "colab": {
          "base_uri": "https://localhost:8080/"
        },
        "id": "pBgDd1jlBjil",
        "outputId": "1c767057-85f0-478c-ce79-1af66b1e595e"
      },
      "execution_count": null,
      "outputs": [
        {
          "output_type": "stream",
          "name": "stdout",
          "text": [
            "Cantidad de tokens únicos después de lematización: 4933\n"
          ]
        }
      ]
    },
    {
      "cell_type": "markdown",
      "source": [
        "#Vectorizacion"
      ],
      "metadata": {
        "id": "qQQF-QpOxvBY"
      }
    },
    {
      "cell_type": "markdown",
      "source": [
        "Conjunto de Etiquetas"
      ],
      "metadata": {
        "id": "Y_e6BCSyz9ob"
      }
    },
    {
      "cell_type": "code",
      "source": [
        "etiquetas_sentimiento = {\n",
        "    'bueno': 1,\n",
        "    'feliz': 1,\n",
        "    'contento':1,\n",
        "    'amable':1,\n",
        "    'alegre': 1,\n",
        "    'satisfecho': 1,\n",
        "    'irritado':0,\n",
        "    'mal': 0,\n",
        "    'triste': 0,\n",
        "    'malo':0,\n",
        "    'enojado':0,\n",
        "    'furioso': 0,\n",
        "    'descontento': 0\n",
        "}\n",
        "\n",
        "# Filtrar tokens y crear etiquetas\n",
        "tokens_filtrados_etiquetados = [(token, etiquetas_sentimiento[token]) for token in tokens_lemmatizados if token in etiquetas_sentimiento]\n",
        "\n",
        "# Separar tokens y etiquetas\n",
        "tokens_finales, y = zip(*tokens_filtrados_etiquetados)\n",
        "tokens_finales = list(tokens_finales)\n",
        "y = np.array(y)"
      ],
      "metadata": {
        "id": "Fb9tJ57NZGMO"
      },
      "execution_count": null,
      "outputs": []
    },
    {
      "cell_type": "code",
      "source": [
        "# Vectorización TF-IDF\n",
        "vectorizer = TfidfVectorizer()\n",
        "X = vectorizer.fit_transform(tokens_finales)\n",
        "\n",
        "print('Tamaño de la matriz TF-IDF:', X.shape)"
      ],
      "metadata": {
        "colab": {
          "base_uri": "https://localhost:8080/"
        },
        "collapsed": true,
        "id": "mehEsZUgxwyH",
        "outputId": "d0c2264e-7853-472b-b87f-d6048a6f58aa"
      },
      "execution_count": null,
      "outputs": [
        {
          "output_type": "stream",
          "name": "stdout",
          "text": [
            "Tamaño de la matriz TF-IDF: (11, 6)\n"
          ]
        }
      ]
    },
    {
      "cell_type": "markdown",
      "source": [
        "#Construcción del Modelo de Red Neuronal"
      ],
      "metadata": {
        "id": "pvqgKhTGDbnS"
      }
    },
    {
      "cell_type": "markdown",
      "source": [
        "Dividir los datos en conjuntos de entrenamiento y prueba"
      ],
      "metadata": {
        "id": "dhKczYuKg__A"
      }
    },
    {
      "cell_type": "code",
      "source": [
        "# División en conjuntos de entrenamiento y prueba\n",
        "X_train, X_test, y_train, y_test = train_test_split(X, y, test_size=0.2, random_state=42)"
      ],
      "metadata": {
        "id": "Rcfei2HN0P3C"
      },
      "execution_count": null,
      "outputs": []
    },
    {
      "cell_type": "markdown",
      "source": [
        "Normalizacion"
      ],
      "metadata": {
        "id": "M7YZ5LP_DmnV"
      }
    },
    {
      "cell_type": "code",
      "source": [
        "from sklearn.preprocessing import MaxAbsScaler\n",
        "# Normalización de los datos de entrada\n",
        "scaler = MaxAbsScaler()\n",
        "X_train_normalized = scaler.fit_transform(X_train.toarray())\n",
        "X_test_normalized = scaler.transform(X_test.toarray())"
      ],
      "metadata": {
        "id": "TW0vnWf4DlhZ"
      },
      "execution_count": null,
      "outputs": []
    },
    {
      "cell_type": "markdown",
      "source": [
        "Aquitectura del modelo"
      ],
      "metadata": {
        "id": "ghOtbDVY1D0i"
      }
    },
    {
      "cell_type": "code",
      "execution_count": null,
      "metadata": {
        "colab": {
          "base_uri": "https://localhost:8080/"
        },
        "id": "yrf-gXBMxf5-",
        "outputId": "8bee94d5-6ba2-45f5-ebd7-7996a42787f9"
      },
      "outputs": [
        {
          "output_type": "stream",
          "name": "stdout",
          "text": [
            "Model: \"sequential\"\n",
            "_________________________________________________________________\n",
            " Layer (type)                Output Shape              Param #   \n",
            "=================================================================\n",
            " dense (Dense)               (None, 128)               896       \n",
            "                                                                 \n",
            " dense_1 (Dense)             (None, 64)                8256      \n",
            "                                                                 \n",
            " dense_2 (Dense)             (None, 1)                 65        \n",
            "                                                                 \n",
            "=================================================================\n",
            "Total params: 9217 (36.00 KB)\n",
            "Trainable params: 9217 (36.00 KB)\n",
            "Non-trainable params: 0 (0.00 Byte)\n",
            "_________________________________________________________________\n"
          ]
        }
      ],
      "source": [
        "# Se define y compila un modelo de red neuronal secuencial utilizando la biblioteca Keras.\n",
        "# Definir la arquitectura del modelo\n",
        "model = Sequential() # inicializa un nuevo modelo de red neuronal secuencial.\n",
        "\n",
        "\"\"\" se agrega la primera capa densa (o completamente conectada) a la red. Esta capa tiene 128 neuronas,\n",
        "y la forma de entrada es la misma que la de los datos de entrenamiento. La función de activación ‘relu’\n",
        "se utiliza para introducir la no linealidad en el modelo.\n",
        "\"\"\"\n",
        "model.add(Dense(128, input_shape=(X_train_normalized.shape[1],), activation='relu'))\n",
        "model.add(Dense(64, activation='relu')) #Se agrega una segunda capa densa con 64 neuronas.\n",
        "model.add(Dense(1, activation='sigmoid'))  # Usar 'sigmoid' para clasificación binaria\n",
        "\"\"\" Esta es la capa de salida del modelo. Tiene una sola neurona porque es un problema de clasificación binaria (dos clases).\n",
        "La función de activación ‘sigmoid’ se utiliza aquí porque puede transformar su entrada en un valor entre 0 y 1,\n",
        "lo que puede interpretarse como una probabilidad.\n",
        "\"\"\"\n",
        "\n",
        "# Compilar el modelo con la función de pérdida binary_crossentropy\n",
        "model.compile(loss='binary_crossentropy', optimizer='adam', metrics=['accuracy'])\n",
        "\"\"\" Aquí se compila el modelo. La función de pérdida ‘binary_crossentropy’ se utiliza para problemas de clasificación binaria.\n",
        "‘adam’ es un optimizador popular que se utiliza para actualizar los pesos de la red.\n",
        "La métrica ‘accuracy’ se utiliza para evaluar el rendimiento del modelo durante el entrenamiento y las pruebas.\n",
        "\"\"\"\n",
        "\n",
        "# Resumen del modelo\n",
        "model.summary()\n",
        "#imprime un resumen del modelo, incluyendo el número de parámetros y la forma de salida de cada capa.\n",
        "\n",
        "\"\"\"\n",
        "En resumen, este código define un modelo de red neuronal con dos capas ocultas y una capa de salida,\n",
        "y luego compila el modelo con una función de pérdida, un optimizador y una métrica de evaluación.\n",
        "\"\"\"\n"
      ]
    },
    {
      "cell_type": "markdown",
      "source": [
        "#Entrenamiento y Evaluación"
      ],
      "metadata": {
        "id": "hxTkZIIr1JKu"
      }
    },
    {
      "cell_type": "markdown",
      "source": [
        "Entranamiento"
      ],
      "metadata": {
        "id": "Hjbqqsj0GA03"
      }
    },
    {
      "cell_type": "code",
      "source": [
        "# Entrenar el modelo con un tamaño de batch más grande y más épocas\n",
        "history = model.fit(X_train_normalized, y_train, epochs=50, batch_size=128, validation_split=0.2)\n",
        "\n",
        "# Evaluar el modelo\n",
        "loss, accuracy = model.evaluate(X_test_normalized, y_test)\n",
        "print('Accuracy:', accuracy)"
      ],
      "metadata": {
        "colab": {
          "base_uri": "https://localhost:8080/"
        },
        "collapsed": true,
        "id": "Mey6TYXO1OHk",
        "outputId": "66b3fcea-6840-4084-bdb1-ea33e612383f"
      },
      "execution_count": null,
      "outputs": [
        {
          "output_type": "stream",
          "name": "stdout",
          "text": [
            "Epoch 1/50\n",
            "1/1 [==============================] - 3s 3s/step - loss: 0.7286 - accuracy: 0.1667 - val_loss: 0.7162 - val_accuracy: 0.0000e+00\n",
            "Epoch 2/50\n",
            "1/1 [==============================] - 0s 59ms/step - loss: 0.7084 - accuracy: 0.3333 - val_loss: 0.7167 - val_accuracy: 0.0000e+00\n",
            "Epoch 3/50\n",
            "1/1 [==============================] - 0s 64ms/step - loss: 0.6892 - accuracy: 0.5000 - val_loss: 0.7173 - val_accuracy: 0.0000e+00\n",
            "Epoch 4/50\n",
            "1/1 [==============================] - 0s 78ms/step - loss: 0.6704 - accuracy: 0.5000 - val_loss: 0.7184 - val_accuracy: 0.5000\n",
            "Epoch 5/50\n",
            "1/1 [==============================] - 0s 75ms/step - loss: 0.6522 - accuracy: 1.0000 - val_loss: 0.7188 - val_accuracy: 0.5000\n",
            "Epoch 6/50\n",
            "1/1 [==============================] - 0s 90ms/step - loss: 0.6342 - accuracy: 1.0000 - val_loss: 0.7196 - val_accuracy: 0.5000\n",
            "Epoch 7/50\n",
            "1/1 [==============================] - 0s 93ms/step - loss: 0.6168 - accuracy: 1.0000 - val_loss: 0.7213 - val_accuracy: 0.5000\n",
            "Epoch 8/50\n",
            "1/1 [==============================] - 0s 132ms/step - loss: 0.6000 - accuracy: 1.0000 - val_loss: 0.7240 - val_accuracy: 0.5000\n",
            "Epoch 9/50\n",
            "1/1 [==============================] - 0s 94ms/step - loss: 0.5838 - accuracy: 1.0000 - val_loss: 0.7270 - val_accuracy: 0.5000\n",
            "Epoch 10/50\n",
            "1/1 [==============================] - 0s 76ms/step - loss: 0.5675 - accuracy: 1.0000 - val_loss: 0.7302 - val_accuracy: 0.5000\n",
            "Epoch 11/50\n",
            "1/1 [==============================] - 0s 79ms/step - loss: 0.5513 - accuracy: 1.0000 - val_loss: 0.7334 - val_accuracy: 0.5000\n",
            "Epoch 12/50\n",
            "1/1 [==============================] - 0s 103ms/step - loss: 0.5352 - accuracy: 1.0000 - val_loss: 0.7366 - val_accuracy: 0.5000\n",
            "Epoch 13/50\n",
            "1/1 [==============================] - 0s 75ms/step - loss: 0.5190 - accuracy: 1.0000 - val_loss: 0.7400 - val_accuracy: 0.5000\n",
            "Epoch 14/50\n",
            "1/1 [==============================] - 0s 67ms/step - loss: 0.5030 - accuracy: 1.0000 - val_loss: 0.7450 - val_accuracy: 0.5000\n",
            "Epoch 15/50\n",
            "1/1 [==============================] - 0s 72ms/step - loss: 0.4870 - accuracy: 1.0000 - val_loss: 0.7511 - val_accuracy: 0.5000\n",
            "Epoch 16/50\n",
            "1/1 [==============================] - 0s 79ms/step - loss: 0.4710 - accuracy: 1.0000 - val_loss: 0.7581 - val_accuracy: 0.5000\n",
            "Epoch 17/50\n",
            "1/1 [==============================] - 0s 110ms/step - loss: 0.4549 - accuracy: 1.0000 - val_loss: 0.7660 - val_accuracy: 0.5000\n",
            "Epoch 18/50\n",
            "1/1 [==============================] - 0s 106ms/step - loss: 0.4385 - accuracy: 1.0000 - val_loss: 0.7747 - val_accuracy: 0.5000\n",
            "Epoch 19/50\n",
            "1/1 [==============================] - 0s 75ms/step - loss: 0.4221 - accuracy: 1.0000 - val_loss: 0.7847 - val_accuracy: 0.5000\n",
            "Epoch 20/50\n",
            "1/1 [==============================] - 0s 99ms/step - loss: 0.4058 - accuracy: 1.0000 - val_loss: 0.7959 - val_accuracy: 0.5000\n",
            "Epoch 21/50\n",
            "1/1 [==============================] - 0s 95ms/step - loss: 0.3896 - accuracy: 1.0000 - val_loss: 0.8080 - val_accuracy: 0.5000\n",
            "Epoch 22/50\n",
            "1/1 [==============================] - 0s 154ms/step - loss: 0.3734 - accuracy: 1.0000 - val_loss: 0.8209 - val_accuracy: 0.5000\n",
            "Epoch 23/50\n",
            "1/1 [==============================] - 0s 127ms/step - loss: 0.3573 - accuracy: 1.0000 - val_loss: 0.8346 - val_accuracy: 0.5000\n",
            "Epoch 24/50\n",
            "1/1 [==============================] - 0s 72ms/step - loss: 0.3412 - accuracy: 1.0000 - val_loss: 0.8491 - val_accuracy: 0.5000\n",
            "Epoch 25/50\n",
            "1/1 [==============================] - 0s 99ms/step - loss: 0.3252 - accuracy: 1.0000 - val_loss: 0.8647 - val_accuracy: 0.5000\n",
            "Epoch 26/50\n",
            "1/1 [==============================] - 0s 161ms/step - loss: 0.3095 - accuracy: 1.0000 - val_loss: 0.8811 - val_accuracy: 0.5000\n",
            "Epoch 27/50\n",
            "1/1 [==============================] - 0s 139ms/step - loss: 0.2940 - accuracy: 1.0000 - val_loss: 0.8987 - val_accuracy: 0.5000\n",
            "Epoch 28/50\n",
            "1/1 [==============================] - 0s 233ms/step - loss: 0.2788 - accuracy: 1.0000 - val_loss: 0.9183 - val_accuracy: 0.5000\n",
            "Epoch 29/50\n",
            "1/1 [==============================] - 0s 192ms/step - loss: 0.2639 - accuracy: 1.0000 - val_loss: 0.9394 - val_accuracy: 0.5000\n",
            "Epoch 30/50\n",
            "1/1 [==============================] - 0s 140ms/step - loss: 0.2492 - accuracy: 1.0000 - val_loss: 0.9615 - val_accuracy: 0.5000\n",
            "Epoch 31/50\n",
            "1/1 [==============================] - 0s 145ms/step - loss: 0.2348 - accuracy: 1.0000 - val_loss: 0.9846 - val_accuracy: 0.5000\n",
            "Epoch 32/50\n",
            "1/1 [==============================] - 0s 199ms/step - loss: 0.2206 - accuracy: 1.0000 - val_loss: 1.0087 - val_accuracy: 0.5000\n",
            "Epoch 33/50\n",
            "1/1 [==============================] - 0s 88ms/step - loss: 0.2069 - accuracy: 1.0000 - val_loss: 1.0340 - val_accuracy: 0.5000\n",
            "Epoch 34/50\n",
            "1/1 [==============================] - 0s 85ms/step - loss: 0.1936 - accuracy: 1.0000 - val_loss: 1.0602 - val_accuracy: 0.5000\n",
            "Epoch 35/50\n",
            "1/1 [==============================] - 0s 92ms/step - loss: 0.1808 - accuracy: 1.0000 - val_loss: 1.0877 - val_accuracy: 0.5000\n",
            "Epoch 36/50\n",
            "1/1 [==============================] - 0s 84ms/step - loss: 0.1685 - accuracy: 1.0000 - val_loss: 1.1167 - val_accuracy: 0.5000\n",
            "Epoch 37/50\n",
            "1/1 [==============================] - 0s 75ms/step - loss: 0.1567 - accuracy: 1.0000 - val_loss: 1.1467 - val_accuracy: 0.5000\n",
            "Epoch 38/50\n",
            "1/1 [==============================] - 0s 162ms/step - loss: 0.1456 - accuracy: 1.0000 - val_loss: 1.1776 - val_accuracy: 0.5000\n",
            "Epoch 39/50\n",
            "1/1 [==============================] - 0s 119ms/step - loss: 0.1351 - accuracy: 1.0000 - val_loss: 1.2093 - val_accuracy: 0.5000\n",
            "Epoch 40/50\n",
            "1/1 [==============================] - 0s 135ms/step - loss: 0.1251 - accuracy: 1.0000 - val_loss: 1.2417 - val_accuracy: 0.5000\n",
            "Epoch 41/50\n",
            "1/1 [==============================] - 0s 143ms/step - loss: 0.1156 - accuracy: 1.0000 - val_loss: 1.2749 - val_accuracy: 0.5000\n",
            "Epoch 42/50\n",
            "1/1 [==============================] - 0s 80ms/step - loss: 0.1068 - accuracy: 1.0000 - val_loss: 1.3085 - val_accuracy: 0.5000\n",
            "Epoch 43/50\n",
            "1/1 [==============================] - 0s 104ms/step - loss: 0.0984 - accuracy: 1.0000 - val_loss: 1.3426 - val_accuracy: 0.5000\n",
            "Epoch 44/50\n",
            "1/1 [==============================] - 0s 80ms/step - loss: 0.0907 - accuracy: 1.0000 - val_loss: 1.3770 - val_accuracy: 0.5000\n",
            "Epoch 45/50\n",
            "1/1 [==============================] - 0s 83ms/step - loss: 0.0835 - accuracy: 1.0000 - val_loss: 1.4117 - val_accuracy: 0.5000\n",
            "Epoch 46/50\n",
            "1/1 [==============================] - 0s 93ms/step - loss: 0.0769 - accuracy: 1.0000 - val_loss: 1.4465 - val_accuracy: 0.5000\n",
            "Epoch 47/50\n",
            "1/1 [==============================] - 0s 92ms/step - loss: 0.0708 - accuracy: 1.0000 - val_loss: 1.4814 - val_accuracy: 0.5000\n",
            "Epoch 48/50\n",
            "1/1 [==============================] - 0s 61ms/step - loss: 0.0651 - accuracy: 1.0000 - val_loss: 1.5162 - val_accuracy: 0.5000\n",
            "Epoch 49/50\n",
            "1/1 [==============================] - 0s 133ms/step - loss: 0.0599 - accuracy: 1.0000 - val_loss: 1.5509 - val_accuracy: 0.5000\n",
            "Epoch 50/50\n",
            "1/1 [==============================] - 0s 91ms/step - loss: 0.0551 - accuracy: 1.0000 - val_loss: 1.5854 - val_accuracy: 0.5000\n",
            "1/1 [==============================] - 0s 156ms/step - loss: 0.9395 - accuracy: 0.6667\n",
            "Accuracy: 0.6666666865348816\n"
          ]
        }
      ]
    },
    {
      "cell_type": "markdown",
      "source": [
        "Matiz de Confusion"
      ],
      "metadata": {
        "id": "PaGntrQa7sZ8"
      }
    },
    {
      "cell_type": "code",
      "source": [
        "from sklearn.metrics import confusion_matrix, roc_curve, auc\n",
        "import matplotlib.pyplot as plt\n",
        "\n",
        "# Realizar predicciones\n",
        "y_pred = model.predict(X_test_normalized)\n",
        "\n",
        "# Convertir las predicciones a etiquetas binarias\n",
        "y_pred_binary = (y_pred > 0.5).astype(int)\n",
        "\n",
        "# Calcular la matriz de confusión\n",
        "conf_matrix = confusion_matrix(y_test, y_pred_binary)\n",
        "\n",
        "# Mostrar la matriz de confusión\n",
        "print(\"Matriz de Confusión:\")\n",
        "print(conf_matrix)"
      ],
      "metadata": {
        "colab": {
          "base_uri": "https://localhost:8080/"
        },
        "id": "JN_5tGYw7xc7",
        "outputId": "aa8cc886-b421-4a63-ba98-d4dc16842b0d"
      },
      "execution_count": null,
      "outputs": [
        {
          "output_type": "stream",
          "name": "stdout",
          "text": [
            "1/1 [==============================] - 0s 87ms/step\n",
            "Matriz de Confusión:\n",
            "[[0 1]\n",
            " [0 2]]\n"
          ]
        }
      ]
    },
    {
      "cell_type": "markdown",
      "source": [
        "Curva ROC"
      ],
      "metadata": {
        "id": "uEjjIkuY71yl"
      }
    },
    {
      "cell_type": "code",
      "source": [
        "# Calcular la tasa de verdaderos positivos (TPR) y la tasa de falsos positivos (FPR) para la curva ROC\n",
        "fpr, tpr, thresholds = roc_curve(y_test, y_pred)\n",
        "roc_auc = auc(fpr, tpr)\n",
        "\n",
        "# Graficar la curva ROC\n",
        "plt.figure()\n",
        "plt.plot(fpr, tpr, color='darkorange', lw=2, label='Curva ROC (area = %0.2f)' % roc_auc)\n",
        "plt.plot([0, 1], [0, 1], color='navy', lw=2, linestyle='--')\n",
        "plt.xlim([0.0, 1.0])\n",
        "plt.ylim([0.0, 1.05])\n",
        "plt.xlabel('Tasa de Falsos Positivos (FPR)')\n",
        "plt.ylabel('Tasa de Verdaderos Positivos (TPR)')\n",
        "plt.title('Curva ROC')\n",
        "plt.legend(loc=\"lower right\")\n",
        "plt.show()"
      ],
      "metadata": {
        "colab": {
          "base_uri": "https://localhost:8080/",
          "height": 472
        },
        "id": "VO0IdKvj7z0S",
        "outputId": "f3e5b6ec-7b4c-4727-eb4c-b99de465b724"
      },
      "execution_count": null,
      "outputs": [
        {
          "output_type": "display_data",
          "data": {
            "text/plain": [
              "<Figure size 640x480 with 1 Axes>"
            ],
            "image/png": "[encoded data removed]"
          },
          "metadata": {}
        }
      ]
    },
    {
      "cell_type": "markdown",
      "source": [
        "#Revisión del Rendimiento del Modelo"
      ],
      "metadata": {
        "id": "57-_2uxOGJWd"
      }
    },
    {
      "cell_type": "markdown",
      "source": [
        "Ajuste de Hiperparámetros"
      ],
      "metadata": {
        "id": "AawvzoCSGTDy"
      }
    },
    {
      "cell_type": "code",
      "source": [
        "from keras.layers import Dropout\n",
        "\n",
        "# Definir la arquitectura del modelo con Dropout\n",
        "model = Sequential()\n",
        "model.add(Dense(128, input_shape=(X_train_normalized.shape[1],), activation='relu'))\n",
        "model.add(Dropout(0.5))  # Añadir Dropout con probabilidad de 0.5\n",
        "model.add(Dense(64, activation='relu'))\n",
        "model.add(Dropout(0.5))  # Añadir otro Dropout\n",
        "model.add(Dense(1, activation='sigmoid'))  # Usar 'sigmoid' para clasificación binaria\n"
      ],
      "metadata": {
        "id": "LMhmFqFeGLK0"
      },
      "execution_count": null,
      "outputs": []
    },
    {
      "cell_type": "code",
      "source": [
        "# Compilar el modelo con una tasa de aprendizaje menor\n",
        "from keras.optimizers import Adam\n",
        "optimizer = Adam(learning_rate=0.0001)  # Reducir la tasa de aprendizaje\n",
        "model.compile(loss='binary_crossentropy', optimizer=optimizer, metrics=['accuracy'])\n",
        "# Resumen del modelo\n",
        "model.summary()"
      ],
      "metadata": {
        "colab": {
          "base_uri": "https://localhost:8080/"
        },
        "id": "uvPFKzo0Gurf",
        "outputId": "47c36866-b753-49f6-d33c-95e2331c409e"
      },
      "execution_count": null,
      "outputs": [
        {
          "output_type": "stream",
          "name": "stdout",
          "text": [
            "Model: \"sequential_1\"\n",
            "_________________________________________________________________\n",
            " Layer (type)                Output Shape              Param #   \n",
            "=================================================================\n",
            " dense_3 (Dense)             (None, 128)               896       \n",
            "                                                                 \n",
            " dropout (Dropout)           (None, 128)               0         \n",
            "                                                                 \n",
            " dense_4 (Dense)             (None, 64)                8256      \n",
            "                                                                 \n",
            " dropout_1 (Dropout)         (None, 64)                0         \n",
            "                                                                 \n",
            " dense_5 (Dense)             (None, 1)                 65        \n",
            "                                                                 \n",
            "=================================================================\n",
            "Total params: 9217 (36.00 KB)\n",
            "Trainable params: 9217 (36.00 KB)\n",
            "Non-trainable params: 0 (0.00 Byte)\n",
            "_________________________________________________________________\n"
          ]
        }
      ]
    },
    {
      "cell_type": "markdown",
      "source": [
        "Entrenar y evaluar con las modificaciones"
      ],
      "metadata": {
        "id": "IG2dI1KnG1on"
      }
    },
    {
      "cell_type": "code",
      "source": [
        "# Entrenar el modelo con más épocas\n",
        "history = model.fit(X_train_normalized, y_train, epochs=100, batch_size=128, validation_split=0.2)\n",
        "\n",
        "# Evaluar el modelo\n",
        "loss, accuracy = model.evaluate(X_test_normalized, y_test)\n",
        "print('Accuracy:', accuracy)\n"
      ],
      "metadata": {
        "colab": {
          "base_uri": "https://localhost:8080/"
        },
        "id": "B6Y-7eNJG4p8",
        "outputId": "1192a3b7-c58f-4c37-8c4e-f10d79434fbd"
      },
      "execution_count": null,
      "outputs": [
        {
          "output_type": "stream",
          "name": "stdout",
          "text": [
            "Epoch 1/100\n",
            "1/1 [==============================] - 1s 1s/step - loss: 0.6902 - accuracy: 0.5000 - val_loss: 0.6694 - val_accuracy: 1.0000\n",
            "Epoch 2/100\n",
            "1/1 [==============================] - 0s 67ms/step - loss: 0.7319 - accuracy: 0.5000 - val_loss: 0.6691 - val_accuracy: 1.0000\n",
            "Epoch 3/100\n",
            "1/1 [==============================] - 0s 58ms/step - loss: 0.7290 - accuracy: 0.5000 - val_loss: 0.6688 - val_accuracy: 1.0000\n",
            "Epoch 4/100\n",
            "1/1 [==============================] - 0s 35ms/step - loss: 0.6740 - accuracy: 0.8333 - val_loss: 0.6685 - val_accuracy: 1.0000\n",
            "Epoch 5/100\n",
            "1/1 [==============================] - 0s 36ms/step - loss: 0.6857 - accuracy: 0.6667 - val_loss: 0.6682 - val_accuracy: 1.0000\n",
            "Epoch 6/100\n",
            "1/1 [==============================] - 0s 35ms/step - loss: 0.6764 - accuracy: 0.5000 - val_loss: 0.6680 - val_accuracy: 1.0000\n",
            "Epoch 7/100\n",
            "1/1 [==============================] - 0s 39ms/step - loss: 0.7303 - accuracy: 0.5000 - val_loss: 0.6678 - val_accuracy: 1.0000\n",
            "Epoch 8/100\n",
            "1/1 [==============================] - 0s 36ms/step - loss: 0.7324 - accuracy: 0.3333 - val_loss: 0.6676 - val_accuracy: 1.0000\n",
            "Epoch 9/100\n",
            "1/1 [==============================] - 0s 53ms/step - loss: 0.6664 - accuracy: 0.8333 - val_loss: 0.6674 - val_accuracy: 1.0000\n",
            "Epoch 10/100\n",
            "1/1 [==============================] - 0s 37ms/step - loss: 0.7114 - accuracy: 0.5000 - val_loss: 0.6672 - val_accuracy: 1.0000\n",
            "Epoch 11/100\n",
            "1/1 [==============================] - 0s 38ms/step - loss: 0.6491 - accuracy: 0.8333 - val_loss: 0.6670 - val_accuracy: 1.0000\n",
            "Epoch 12/100\n",
            "1/1 [==============================] - 0s 43ms/step - loss: 0.6391 - accuracy: 0.8333 - val_loss: 0.6669 - val_accuracy: 1.0000\n",
            "Epoch 13/100\n",
            "1/1 [==============================] - 0s 41ms/step - loss: 0.6450 - accuracy: 0.8333 - val_loss: 0.6667 - val_accuracy: 1.0000\n",
            "Epoch 14/100\n",
            "1/1 [==============================] - 0s 42ms/step - loss: 0.6717 - accuracy: 0.8333 - val_loss: 0.6666 - val_accuracy: 1.0000\n",
            "Epoch 15/100\n",
            "1/1 [==============================] - 0s 35ms/step - loss: 0.7205 - accuracy: 0.3333 - val_loss: 0.6665 - val_accuracy: 1.0000\n",
            "Epoch 16/100\n",
            "1/1 [==============================] - 0s 38ms/step - loss: 0.6656 - accuracy: 0.6667 - val_loss: 0.6663 - val_accuracy: 1.0000\n",
            "Epoch 17/100\n",
            "1/1 [==============================] - 0s 36ms/step - loss: 0.6870 - accuracy: 0.6667 - val_loss: 0.6662 - val_accuracy: 1.0000\n",
            "Epoch 18/100\n",
            "1/1 [==============================] - 0s 38ms/step - loss: 0.6923 - accuracy: 0.5000 - val_loss: 0.6660 - val_accuracy: 1.0000\n",
            "Epoch 19/100\n",
            "1/1 [==============================] - 0s 40ms/step - loss: 0.6231 - accuracy: 1.0000 - val_loss: 0.6659 - val_accuracy: 0.5000\n",
            "Epoch 20/100\n",
            "1/1 [==============================] - 0s 38ms/step - loss: 0.6372 - accuracy: 0.6667 - val_loss: 0.6658 - val_accuracy: 0.5000\n",
            "Epoch 21/100\n",
            "1/1 [==============================] - 0s 55ms/step - loss: 0.6653 - accuracy: 0.5000 - val_loss: 0.6657 - val_accuracy: 0.5000\n",
            "Epoch 22/100\n",
            "1/1 [==============================] - 0s 40ms/step - loss: 0.6626 - accuracy: 0.6667 - val_loss: 0.6655 - val_accuracy: 0.5000\n",
            "Epoch 23/100\n",
            "1/1 [==============================] - 0s 36ms/step - loss: 0.6488 - accuracy: 0.8333 - val_loss: 0.6654 - val_accuracy: 0.5000\n",
            "Epoch 24/100\n",
            "1/1 [==============================] - 0s 67ms/step - loss: 0.5909 - accuracy: 0.8333 - val_loss: 0.6653 - val_accuracy: 0.5000\n",
            "Epoch 25/100\n",
            "1/1 [==============================] - 0s 40ms/step - loss: 0.6536 - accuracy: 0.8333 - val_loss: 0.6652 - val_accuracy: 0.5000\n",
            "Epoch 26/100\n",
            "1/1 [==============================] - 0s 37ms/step - loss: 0.6755 - accuracy: 0.5000 - val_loss: 0.6651 - val_accuracy: 0.5000\n",
            "Epoch 27/100\n",
            "1/1 [==============================] - 0s 38ms/step - loss: 0.6277 - accuracy: 0.8333 - val_loss: 0.6649 - val_accuracy: 0.5000\n",
            "Epoch 28/100\n",
            "1/1 [==============================] - 0s 36ms/step - loss: 0.6457 - accuracy: 0.8333 - val_loss: 0.6648 - val_accuracy: 0.5000\n",
            "Epoch 29/100\n",
            "1/1 [==============================] - 0s 37ms/step - loss: 0.6273 - accuracy: 0.8333 - val_loss: 0.6646 - val_accuracy: 0.5000\n",
            "Epoch 30/100\n",
            "1/1 [==============================] - 0s 40ms/step - loss: 0.6970 - accuracy: 0.6667 - val_loss: 0.6645 - val_accuracy: 0.5000\n",
            "Epoch 31/100\n",
            "1/1 [==============================] - 0s 57ms/step - loss: 0.6976 - accuracy: 0.8333 - val_loss: 0.6644 - val_accuracy: 0.5000\n",
            "Epoch 32/100\n",
            "1/1 [==============================] - 0s 38ms/step - loss: 0.6496 - accuracy: 0.6667 - val_loss: 0.6643 - val_accuracy: 0.5000\n",
            "Epoch 33/100\n",
            "1/1 [==============================] - 0s 39ms/step - loss: 0.6197 - accuracy: 0.6667 - val_loss: 0.6642 - val_accuracy: 0.5000\n",
            "Epoch 34/100\n",
            "1/1 [==============================] - 0s 39ms/step - loss: 0.6280 - accuracy: 0.8333 - val_loss: 0.6641 - val_accuracy: 0.5000\n",
            "Epoch 35/100\n",
            "1/1 [==============================] - 0s 63ms/step - loss: 0.6536 - accuracy: 0.5000 - val_loss: 0.6640 - val_accuracy: 0.5000\n",
            "Epoch 36/100\n",
            "1/1 [==============================] - 0s 41ms/step - loss: 0.6434 - accuracy: 0.8333 - val_loss: 0.6639 - val_accuracy: 0.5000\n",
            "Epoch 37/100\n",
            "1/1 [==============================] - 0s 41ms/step - loss: 0.6426 - accuracy: 0.6667 - val_loss: 0.6638 - val_accuracy: 0.5000\n",
            "Epoch 38/100\n",
            "1/1 [==============================] - 0s 41ms/step - loss: 0.6684 - accuracy: 0.5000 - val_loss: 0.6637 - val_accuracy: 0.5000\n",
            "Epoch 39/100\n",
            "1/1 [==============================] - 0s 37ms/step - loss: 0.6321 - accuracy: 0.6667 - val_loss: 0.6636 - val_accuracy: 0.5000\n",
            "Epoch 40/100\n",
            "1/1 [==============================] - 0s 39ms/step - loss: 0.6437 - accuracy: 0.6667 - val_loss: 0.6635 - val_accuracy: 0.5000\n",
            "Epoch 41/100\n",
            "1/1 [==============================] - 0s 39ms/step - loss: 0.6630 - accuracy: 0.6667 - val_loss: 0.6634 - val_accuracy: 0.5000\n",
            "Epoch 42/100\n",
            "1/1 [==============================] - 0s 37ms/step - loss: 0.6565 - accuracy: 0.8333 - val_loss: 0.6633 - val_accuracy: 0.5000\n",
            "Epoch 43/100\n",
            "1/1 [==============================] - 0s 41ms/step - loss: 0.6592 - accuracy: 0.6667 - val_loss: 0.6633 - val_accuracy: 0.5000\n",
            "Epoch 44/100\n",
            "1/1 [==============================] - 0s 40ms/step - loss: 0.6103 - accuracy: 0.8333 - val_loss: 0.6632 - val_accuracy: 0.5000\n",
            "Epoch 45/100\n",
            "1/1 [==============================] - 0s 36ms/step - loss: 0.6580 - accuracy: 0.8333 - val_loss: 0.6631 - val_accuracy: 0.5000\n",
            "Epoch 46/100\n",
            "1/1 [==============================] - 0s 61ms/step - loss: 0.6368 - accuracy: 0.8333 - val_loss: 0.6631 - val_accuracy: 0.5000\n",
            "Epoch 47/100\n",
            "1/1 [==============================] - 0s 37ms/step - loss: 0.6389 - accuracy: 0.6667 - val_loss: 0.6630 - val_accuracy: 0.5000\n",
            "Epoch 48/100\n",
            "1/1 [==============================] - 0s 38ms/step - loss: 0.5653 - accuracy: 1.0000 - val_loss: 0.6630 - val_accuracy: 0.5000\n",
            "Epoch 49/100\n",
            "1/1 [==============================] - 0s 38ms/step - loss: 0.6525 - accuracy: 0.6667 - val_loss: 0.6630 - val_accuracy: 0.5000\n",
            "Epoch 50/100\n",
            "1/1 [==============================] - 0s 39ms/step - loss: 0.6244 - accuracy: 0.6667 - val_loss: 0.6629 - val_accuracy: 0.5000\n",
            "Epoch 51/100\n",
            "1/1 [==============================] - 0s 37ms/step - loss: 0.5950 - accuracy: 1.0000 - val_loss: 0.6629 - val_accuracy: 0.5000\n",
            "Epoch 52/100\n",
            "1/1 [==============================] - 0s 53ms/step - loss: 0.6152 - accuracy: 1.0000 - val_loss: 0.6629 - val_accuracy: 0.5000\n",
            "Epoch 53/100\n",
            "1/1 [==============================] - 0s 38ms/step - loss: 0.6278 - accuracy: 0.8333 - val_loss: 0.6629 - val_accuracy: 0.5000\n",
            "Epoch 54/100\n",
            "1/1 [==============================] - 0s 38ms/step - loss: 0.6091 - accuracy: 0.8333 - val_loss: 0.6629 - val_accuracy: 0.5000\n",
            "Epoch 55/100\n",
            "1/1 [==============================] - 0s 38ms/step - loss: 0.6215 - accuracy: 1.0000 - val_loss: 0.6629 - val_accuracy: 0.5000\n",
            "Epoch 56/100\n",
            "1/1 [==============================] - 0s 57ms/step - loss: 0.6555 - accuracy: 0.6667 - val_loss: 0.6629 - val_accuracy: 0.5000\n",
            "Epoch 57/100\n",
            "1/1 [==============================] - 0s 40ms/step - loss: 0.6062 - accuracy: 0.8333 - val_loss: 0.6629 - val_accuracy: 0.5000\n",
            "Epoch 58/100\n",
            "1/1 [==============================] - 0s 38ms/step - loss: 0.6128 - accuracy: 0.8333 - val_loss: 0.6629 - val_accuracy: 0.5000\n",
            "Epoch 59/100\n",
            "1/1 [==============================] - 0s 36ms/step - loss: 0.6475 - accuracy: 0.8333 - val_loss: 0.6629 - val_accuracy: 0.5000\n",
            "Epoch 60/100\n",
            "1/1 [==============================] - 0s 41ms/step - loss: 0.6585 - accuracy: 0.8333 - val_loss: 0.6630 - val_accuracy: 0.5000\n",
            "Epoch 61/100\n",
            "1/1 [==============================] - 0s 56ms/step - loss: 0.6125 - accuracy: 0.8333 - val_loss: 0.6630 - val_accuracy: 0.5000\n",
            "Epoch 62/100\n",
            "1/1 [==============================] - 0s 35ms/step - loss: 0.6691 - accuracy: 0.6667 - val_loss: 0.6631 - val_accuracy: 0.5000\n",
            "Epoch 63/100\n",
            "1/1 [==============================] - 0s 37ms/step - loss: 0.6096 - accuracy: 0.8333 - val_loss: 0.6631 - val_accuracy: 0.5000\n",
            "Epoch 64/100\n",
            "1/1 [==============================] - 0s 37ms/step - loss: 0.6577 - accuracy: 0.6667 - val_loss: 0.6631 - val_accuracy: 0.5000\n",
            "Epoch 65/100\n",
            "1/1 [==============================] - 0s 36ms/step - loss: 0.6367 - accuracy: 0.8333 - val_loss: 0.6632 - val_accuracy: 0.5000\n",
            "Epoch 66/100\n",
            "1/1 [==============================] - 0s 35ms/step - loss: 0.6068 - accuracy: 0.8333 - val_loss: 0.6632 - val_accuracy: 0.5000\n",
            "Epoch 67/100\n",
            "1/1 [==============================] - 0s 54ms/step - loss: 0.5775 - accuracy: 0.8333 - val_loss: 0.6632 - val_accuracy: 0.5000\n",
            "Epoch 68/100\n",
            "1/1 [==============================] - 0s 39ms/step - loss: 0.5851 - accuracy: 0.8333 - val_loss: 0.6632 - val_accuracy: 0.5000\n",
            "Epoch 69/100\n",
            "1/1 [==============================] - 0s 49ms/step - loss: 0.6927 - accuracy: 0.5000 - val_loss: 0.6632 - val_accuracy: 0.5000\n",
            "Epoch 70/100\n",
            "1/1 [==============================] - 0s 36ms/step - loss: 0.5637 - accuracy: 1.0000 - val_loss: 0.6631 - val_accuracy: 0.5000\n",
            "Epoch 71/100\n",
            "1/1 [==============================] - 0s 42ms/step - loss: 0.6383 - accuracy: 0.6667 - val_loss: 0.6631 - val_accuracy: 0.5000\n",
            "Epoch 72/100\n",
            "1/1 [==============================] - 0s 36ms/step - loss: 0.5998 - accuracy: 0.8333 - val_loss: 0.6631 - val_accuracy: 0.5000\n",
            "Epoch 73/100\n",
            "1/1 [==============================] - 0s 45ms/step - loss: 0.6065 - accuracy: 1.0000 - val_loss: 0.6630 - val_accuracy: 0.5000\n",
            "Epoch 74/100\n",
            "1/1 [==============================] - 0s 37ms/step - loss: 0.6131 - accuracy: 0.8333 - val_loss: 0.6630 - val_accuracy: 0.5000\n",
            "Epoch 75/100\n",
            "1/1 [==============================] - 0s 37ms/step - loss: 0.6190 - accuracy: 0.8333 - val_loss: 0.6630 - val_accuracy: 0.5000\n",
            "Epoch 76/100\n",
            "1/1 [==============================] - 0s 39ms/step - loss: 0.5687 - accuracy: 1.0000 - val_loss: 0.6630 - val_accuracy: 0.5000\n",
            "Epoch 77/100\n",
            "1/1 [==============================] - 0s 38ms/step - loss: 0.5938 - accuracy: 1.0000 - val_loss: 0.6629 - val_accuracy: 0.5000\n",
            "Epoch 78/100\n",
            "1/1 [==============================] - 0s 38ms/step - loss: 0.5892 - accuracy: 1.0000 - val_loss: 0.6629 - val_accuracy: 0.5000\n",
            "Epoch 79/100\n",
            "1/1 [==============================] - 0s 37ms/step - loss: 0.6182 - accuracy: 0.8333 - val_loss: 0.6628 - val_accuracy: 0.5000\n",
            "Epoch 80/100\n",
            "1/1 [==============================] - 0s 44ms/step - loss: 0.6186 - accuracy: 0.8333 - val_loss: 0.6627 - val_accuracy: 0.5000\n",
            "Epoch 81/100\n",
            "1/1 [==============================] - 0s 36ms/step - loss: 0.6053 - accuracy: 0.8333 - val_loss: 0.6627 - val_accuracy: 0.5000\n",
            "Epoch 82/100\n",
            "1/1 [==============================] - 0s 40ms/step - loss: 0.5945 - accuracy: 1.0000 - val_loss: 0.6627 - val_accuracy: 0.5000\n",
            "Epoch 83/100\n",
            "1/1 [==============================] - 0s 45ms/step - loss: 0.5449 - accuracy: 1.0000 - val_loss: 0.6627 - val_accuracy: 0.5000\n",
            "Epoch 84/100\n",
            "1/1 [==============================] - 0s 37ms/step - loss: 0.5616 - accuracy: 1.0000 - val_loss: 0.6627 - val_accuracy: 0.5000\n",
            "Epoch 85/100\n",
            "1/1 [==============================] - 0s 39ms/step - loss: 0.5935 - accuracy: 0.8333 - val_loss: 0.6627 - val_accuracy: 0.5000\n",
            "Epoch 86/100\n",
            "1/1 [==============================] - 0s 40ms/step - loss: 0.5797 - accuracy: 1.0000 - val_loss: 0.6627 - val_accuracy: 0.5000\n",
            "Epoch 87/100\n",
            "1/1 [==============================] - 0s 60ms/step - loss: 0.5929 - accuracy: 1.0000 - val_loss: 0.6627 - val_accuracy: 0.5000\n",
            "Epoch 88/100\n",
            "1/1 [==============================] - 0s 39ms/step - loss: 0.6024 - accuracy: 1.0000 - val_loss: 0.6627 - val_accuracy: 0.5000\n",
            "Epoch 89/100\n",
            "1/1 [==============================] - 0s 38ms/step - loss: 0.5611 - accuracy: 1.0000 - val_loss: 0.6627 - val_accuracy: 0.5000\n",
            "Epoch 90/100\n",
            "1/1 [==============================] - 0s 40ms/step - loss: 0.5837 - accuracy: 1.0000 - val_loss: 0.6627 - val_accuracy: 0.5000\n",
            "Epoch 91/100\n",
            "1/1 [==============================] - 0s 59ms/step - loss: 0.5479 - accuracy: 1.0000 - val_loss: 0.6627 - val_accuracy: 0.5000\n",
            "Epoch 92/100\n",
            "1/1 [==============================] - 0s 38ms/step - loss: 0.5639 - accuracy: 0.8333 - val_loss: 0.6627 - val_accuracy: 0.5000\n",
            "Epoch 93/100\n",
            "1/1 [==============================] - 0s 40ms/step - loss: 0.5560 - accuracy: 1.0000 - val_loss: 0.6627 - val_accuracy: 0.5000\n",
            "Epoch 94/100\n",
            "1/1 [==============================] - 0s 37ms/step - loss: 0.5729 - accuracy: 1.0000 - val_loss: 0.6627 - val_accuracy: 0.5000\n",
            "Epoch 95/100\n",
            "1/1 [==============================] - 0s 39ms/step - loss: 0.5585 - accuracy: 1.0000 - val_loss: 0.6626 - val_accuracy: 0.5000\n",
            "Epoch 96/100\n",
            "1/1 [==============================] - 0s 39ms/step - loss: 0.5614 - accuracy: 1.0000 - val_loss: 0.6626 - val_accuracy: 0.5000\n",
            "Epoch 97/100\n",
            "1/1 [==============================] - 0s 37ms/step - loss: 0.5419 - accuracy: 1.0000 - val_loss: 0.6626 - val_accuracy: 0.5000\n",
            "Epoch 98/100\n",
            "1/1 [==============================] - 0s 37ms/step - loss: 0.5846 - accuracy: 0.8333 - val_loss: 0.6627 - val_accuracy: 0.5000\n",
            "Epoch 99/100\n",
            "1/1 [==============================] - 0s 38ms/step - loss: 0.5196 - accuracy: 1.0000 - val_loss: 0.6627 - val_accuracy: 0.5000\n",
            "Epoch 100/100\n",
            "1/1 [==============================] - 0s 42ms/step - loss: 0.5599 - accuracy: 1.0000 - val_loss: 0.6628 - val_accuracy: 0.5000\n",
            "1/1 [==============================] - 0s 30ms/step - loss: 0.6555 - accuracy: 0.6667\n",
            "Accuracy: 0.6666666865348816\n"
          ]
        }
      ]
    },
    {
      "cell_type": "markdown",
      "source": [
        "Matriz de Confusion"
      ],
      "metadata": {
        "id": "b7EceSUPHAye"
      }
    },
    {
      "cell_type": "code",
      "source": [
        "# Realizar predicciones\n",
        "y_pred = model.predict(X_test_normalized)\n",
        "\n",
        "# Convertir las predicciones a etiquetas binarias\n",
        "y_pred_binary = (y_pred > 0.5).astype(int)\n",
        "\n",
        "# Calcular la matriz de confusión\n",
        "conf_matrix = confusion_matrix(y_test, y_pred_binary)\n",
        "\n",
        "# Mostrar la matriz de confusión\n",
        "print(\"Matriz de Confusión:\")\n",
        "print(conf_matrix)"
      ],
      "metadata": {
        "colab": {
          "base_uri": "https://localhost:8080/"
        },
        "id": "VYpS7rQLHC-1",
        "outputId": "08be9063-b330-4990-ecc9-ffa15db47068"
      },
      "execution_count": null,
      "outputs": [
        {
          "output_type": "stream",
          "name": "stdout",
          "text": [
            "1/1 [==============================] - 0s 61ms/step\n",
            "Matriz de Confusión:\n",
            "[[0 1]\n",
            " [0 2]]\n"
          ]
        }
      ]
    },
    {
      "cell_type": "markdown",
      "source": [
        "Nueva curva ROC"
      ],
      "metadata": {
        "id": "Yjs56AKYHHdd"
      }
    },
    {
      "cell_type": "code",
      "source": [
        "# Calcular la tasa de verdaderos positivos (TPR) y la tasa de falsos positivos (FPR) para la curva ROC\n",
        "fpr, tpr, thresholds = roc_curve(y_test, y_pred)\n",
        "roc_auc = auc(fpr, tpr)\n",
        "\n",
        "# Graficar la curva ROC\n",
        "plt.figure()\n",
        "plt.plot(fpr, tpr, color='darkorange', lw=2, label='Curva ROC (area = %0.2f)' % roc_auc)\n",
        "plt.plot([0, 1], [0, 1], color='navy', lw=2, linestyle='--')\n",
        "plt.xlim([0.0, 1.0])\n",
        "plt.ylim([0.0, 1.05])\n",
        "plt.xlabel('Tasa de Falsos Positivos (FPR)')\n",
        "plt.ylabel('Tasa de Verdaderos Positivos (TPR)')\n",
        "plt.title('Curva ROC')\n",
        "plt.legend(loc=\"lower right\")\n",
        "plt.show()"
      ],
      "metadata": {
        "colab": {
          "base_uri": "https://localhost:8080/",
          "height": 472
        },
        "id": "vWdadobYHJCa",
        "outputId": "e335bd44-9040-45d9-8df0-9fd70922f5b8"
      },
      "execution_count": null,
      "outputs": [
        {
          "output_type": "display_data",
          "data": {
            "text/plain": [
              "<Figure size 640x480 with 1 Axes>"
            ],
            "image/png": "[encoded data removed]"
          },
          "metadata": {}
        }
      ]
    }
  ]
}